{
  "nbformat": 4,
  "nbformat_minor": 0,
  "metadata": {
    "colab": {
      "provenance": [],
      "authorship_tag": "ABX9TyOPg9oaUpCkkxcwxCrDYxRH",
      "include_colab_link": true
    },
    "kernelspec": {
      "name": "python3",
      "display_name": "Python 3"
    },
    "language_info": {
      "name": "python"
    }
  },
  "cells": [
    {
      "cell_type": "markdown",
      "metadata": {
        "id": "view-in-github",
        "colab_type": "text"
      },
      "source": [
        "<a href=\"https://colab.research.google.com/github/Isacc06/start_project/blob/main/Jour7_deeplearn.ipynb\" target=\"_parent\"><img src=\"https://colab.research.google.com/assets/colab-badge.svg\" alt=\"Open In Colab\"/></a>"
      ]
    },
    {
      "cell_type": "code",
      "execution_count": 3,
      "metadata": {
        "id": "knXtJ4p6kRSt"
      },
      "outputs": [],
      "source": [
        "import numpy as np\n",
        "import pandas as pd\n",
        "import seaborn as sns\n",
        "import matplotlib.pyplot as plt\n",
        "import tensorflow as tf\n",
        "from tensorflow.keras.datasets import imdb\n",
        "from tensorflow.keras.preprocessing.sequence import pad_sequences\n",
        "from tensorflow.keras import models\n",
        "from tensorflow.keras import layers\n",
        "from sklearn.metrics import confusion_matrix, classification_report\n",
        "from sklearn.model_selection import train_test_split\n",
        "from tensorflow.keras import optimizers\n",
        "from tensorflow.keras import losses\n",
        "from tensorflow.keras import metrics"
      ]
    },
    {
      "cell_type": "code",
      "source": [
        "max_features = 10000\n",
        "maxlen = 500\n",
        "\n",
        "(x_train, y_train), (x_test, y_test) = imdb.load_data(num_words=max_features)\n"
      ],
      "metadata": {
        "colab": {
          "base_uri": "https://localhost:8080/"
        },
        "id": "x04gUDUjnrp6",
        "outputId": "d330f7ec-662a-41dd-e49a-c22216990969"
      },
      "execution_count": 4,
      "outputs": [
        {
          "output_type": "stream",
          "name": "stdout",
          "text": [
            "Downloading data from https://storage.googleapis.com/tensorflow/tf-keras-datasets/imdb.npz\n",
            "17464789/17464789 [==============================] - 0s 0us/step\n"
          ]
        }
      ]
    },
    {
      "cell_type": "code",
      "source": [
        "x_train = pad_sequences(x_train, maxlen=maxlen)\n",
        "x_test = pad_sequences(x_test, maxlen=maxlen)"
      ],
      "metadata": {
        "id": "cOeKRJuDo6AD"
      },
      "execution_count": 5,
      "outputs": []
    },
    {
      "cell_type": "markdown",
      "source": [
        "## modèle de deep learning"
      ],
      "metadata": {
        "id": "vEkEunHOpps9"
      }
    },
    {
      "cell_type": "code",
      "source": [
        " model = models.Sequential()\n",
        " model.add(layers.Embedding(max_features, 128, input_length= maxlen))\n",
        " model.add(layers.Flatten())\n",
        " model.add(layers.Dense(128, activation='relu'))\n",
        " model.add(layers.Dense(1, activation='sigmoid'))"
      ],
      "metadata": {
        "id": "LWsfNUB3pnip"
      },
      "execution_count": 6,
      "outputs": []
    },
    {
      "cell_type": "code",
      "source": [
        "model.summary()"
      ],
      "metadata": {
        "colab": {
          "base_uri": "https://localhost:8080/"
        },
        "id": "hNUDDGmgq0b6",
        "outputId": "de0abd2d-a996-44d9-c6ad-925425680342"
      },
      "execution_count": 7,
      "outputs": [
        {
          "output_type": "stream",
          "name": "stdout",
          "text": [
            "Model: \"sequential\"\n",
            "_________________________________________________________________\n",
            " Layer (type)                Output Shape              Param #   \n",
            "=================================================================\n",
            " embedding (Embedding)       (None, 500, 128)          1280000   \n",
            "                                                                 \n",
            " flatten (Flatten)           (None, 64000)             0         \n",
            "                                                                 \n",
            " dense (Dense)               (None, 128)               8192128   \n",
            "                                                                 \n",
            " dense_1 (Dense)             (None, 1)                 129       \n",
            "                                                                 \n",
            "=================================================================\n",
            "Total params: 9472257 (36.13 MB)\n",
            "Trainable params: 9472257 (36.13 MB)\n",
            "Non-trainable params: 0 (0.00 Byte)\n",
            "_________________________________________________________________\n"
          ]
        }
      ]
    },
    {
      "cell_type": "code",
      "source": [
        "model.compile(optimizer='rmsprop', loss='binary_crossentropy', metrics=['accuracy'])"
      ],
      "metadata": {
        "id": "ZCIcYE6KrLDw"
      },
      "execution_count": 8,
      "outputs": []
    },
    {
      "cell_type": "code",
      "source": [
        "history = model.fit(x_train, y_train, epochs=10, batch_size=32, validation_split=0.2)"
      ],
      "metadata": {
        "colab": {
          "base_uri": "https://localhost:8080/"
        },
        "id": "rSUv56yYroMT",
        "outputId": "d24f74e1-5d22-4ce2-f7a8-3380b4413fba"
      },
      "execution_count": 9,
      "outputs": [
        {
          "output_type": "stream",
          "name": "stdout",
          "text": [
            "Epoch 1/10\n",
            "625/625 [==============================] - 80s 127ms/step - loss: 0.4752 - accuracy: 0.7407 - val_loss: 0.3414 - val_accuracy: 0.8524\n",
            "Epoch 2/10\n",
            "625/625 [==============================] - 78s 124ms/step - loss: 0.1347 - accuracy: 0.9514 - val_loss: 0.3857 - val_accuracy: 0.8622\n",
            "Epoch 3/10\n",
            "625/625 [==============================] - 78s 125ms/step - loss: 0.0149 - accuracy: 0.9958 - val_loss: 0.7336 - val_accuracy: 0.8304\n",
            "Epoch 4/10\n",
            "625/625 [==============================] - 76s 121ms/step - loss: 0.0012 - accuracy: 0.9998 - val_loss: 0.7884 - val_accuracy: 0.8416\n",
            "Epoch 5/10\n",
            "625/625 [==============================] - 80s 128ms/step - loss: 8.7013e-05 - accuracy: 1.0000 - val_loss: 0.8348 - val_accuracy: 0.8464\n",
            "Epoch 6/10\n",
            "625/625 [==============================] - 79s 127ms/step - loss: 2.5541e-05 - accuracy: 1.0000 - val_loss: 0.8523 - val_accuracy: 0.8472\n",
            "Epoch 7/10\n",
            "625/625 [==============================] - 74s 119ms/step - loss: 1.4131e-05 - accuracy: 1.0000 - val_loss: 0.8705 - val_accuracy: 0.8484\n",
            "Epoch 8/10\n",
            "625/625 [==============================] - 76s 122ms/step - loss: 2.0284e-05 - accuracy: 1.0000 - val_loss: 0.8837 - val_accuracy: 0.8482\n",
            "Epoch 9/10\n",
            "625/625 [==============================] - 74s 119ms/step - loss: 8.5636e-06 - accuracy: 1.0000 - val_loss: 0.8939 - val_accuracy: 0.8466\n",
            "Epoch 10/10\n",
            "625/625 [==============================] - 79s 127ms/step - loss: 7.0423e-06 - accuracy: 1.0000 - val_loss: 0.9010 - val_accuracy: 0.8466\n"
          ]
        }
      ]
    }
  ]
}